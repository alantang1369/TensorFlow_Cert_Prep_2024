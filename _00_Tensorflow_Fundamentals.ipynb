{
  "nbformat": 4,
  "nbformat_minor": 0,
  "metadata": {
    "colab": {
      "provenance": [],
      "authorship_tag": "ABX9TyOW66phmR0XmJba6ErxAoi1",
      "include_colab_link": true
    },
    "kernelspec": {
      "name": "python3",
      "display_name": "Python 3"
    },
    "language_info": {
      "name": "python"
    }
  },
  "cells": [
    {
      "cell_type": "markdown",
      "metadata": {
        "id": "view-in-github",
        "colab_type": "text"
      },
      "source": [
        "<a href=\"https://colab.research.google.com/github/alantang1369/TensorFlow_Cert_Prep_2024/blob/main/_00_Tensorflow_Fundamentals.ipynb\" target=\"_parent\"><img src=\"https://colab.research.google.com/assets/colab-badge.svg\" alt=\"Open In Colab\"/></a>"
      ]
    },
    {
      "cell_type": "code",
      "execution_count": 2,
      "metadata": {
        "colab": {
          "base_uri": "https://localhost:8080/"
        },
        "id": "-g-3-Ll_3lhv",
        "outputId": "8f692bb4-e5a0-4a34-d30f-20b00303501b"
      },
      "outputs": [
        {
          "output_type": "stream",
          "name": "stdout",
          "text": [
            "2.15.0\n"
          ]
        }
      ],
      "source": [
        "import tensorflow as tf\n",
        "print(tf.__version__)"
      ]
    },
    {
      "cell_type": "code",
      "source": [
        "#create a scalar\n",
        "scalar = tf.constant(8)\n"
      ],
      "metadata": {
        "id": "Gh0RwBPDPnnG"
      },
      "execution_count": 3,
      "outputs": []
    },
    {
      "cell_type": "code",
      "source": [
        "scalar"
      ],
      "metadata": {
        "colab": {
          "base_uri": "https://localhost:8080/"
        },
        "id": "6yiSH_9HP7vP",
        "outputId": "cf9ca9bd-9c4f-4bd5-b316-4ab086944c17"
      },
      "execution_count": 4,
      "outputs": [
        {
          "output_type": "execute_result",
          "data": {
            "text/plain": [
              "<tf.Tensor: shape=(), dtype=int32, numpy=8>"
            ]
          },
          "metadata": {},
          "execution_count": 4
        }
      ]
    },
    {
      "cell_type": "code",
      "source": [
        "vector = tf.constant([1, 2, 3])\n",
        "vector"
      ],
      "metadata": {
        "colab": {
          "base_uri": "https://localhost:8080/"
        },
        "id": "1AvRlaQwQd2x",
        "outputId": "984582c7-d240-4f0f-ba93-e1f0ade9bcdd"
      },
      "execution_count": 6,
      "outputs": [
        {
          "output_type": "execute_result",
          "data": {
            "text/plain": [
              "<tf.Tensor: shape=(3,), dtype=int32, numpy=array([1, 2, 3], dtype=int32)>"
            ]
          },
          "metadata": {},
          "execution_count": 6
        }
      ]
    },
    {
      "cell_type": "code",
      "source": [
        "matrix = tf.constant([[1, 2],\n",
        "                      [3, 4]])\n",
        "matrix"
      ],
      "metadata": {
        "colab": {
          "base_uri": "https://localhost:8080/"
        },
        "id": "jGfVYqS_QlYk",
        "outputId": "c1b29efa-3f73-461b-bf41-20d8d34322a6"
      },
      "execution_count": 7,
      "outputs": [
        {
          "output_type": "execute_result",
          "data": {
            "text/plain": [
              "<tf.Tensor: shape=(2, 2), dtype=int32, numpy=\n",
              "array([[1, 2],\n",
              "       [3, 4]], dtype=int32)>"
            ]
          },
          "metadata": {},
          "execution_count": 7
        }
      ]
    },
    {
      "cell_type": "code",
      "source": [
        "tensor = tf.constant([\n",
        "                      [\n",
        "                          [1, 2, 3],\n",
        "                          [3, 4, 5],\n",
        "                          [6, 7, 8]\n",
        "                       ],\n",
        "                       [\n",
        "                          [10, 11, 12],\n",
        "                          [13, 14, 15],\n",
        "                          [16, 17, 18]\n",
        "                        ]\n",
        "                      ])\n",
        "tensor"
      ],
      "metadata": {
        "colab": {
          "base_uri": "https://localhost:8080/"
        },
        "id": "PAdRVJZ3QkNM",
        "outputId": "8694520e-fefc-4cbe-ee09-fcd94ca83f17"
      },
      "execution_count": 8,
      "outputs": [
        {
          "output_type": "execute_result",
          "data": {
            "text/plain": [
              "<tf.Tensor: shape=(2, 3, 3), dtype=int32, numpy=\n",
              "array([[[ 1,  2,  3],\n",
              "        [ 3,  4,  5],\n",
              "        [ 6,  7,  8]],\n",
              "\n",
              "       [[10, 11, 12],\n",
              "        [13, 14, 15],\n",
              "        [16, 17, 18]]], dtype=int32)>"
            ]
          },
          "metadata": {},
          "execution_count": 8
        }
      ]
    },
    {
      "cell_type": "code",
      "source": [
        "print(f'The shape of the tensor: {tensor.shape}')\n",
        "print(f'The size of the tensor: {tf.size(tensor)}')\n",
        "print(f'The rank of the tensor: {tf.rank(tensor)}')"
      ],
      "metadata": {
        "colab": {
          "base_uri": "https://localhost:8080/"
        },
        "id": "pEpbrBfmTA5u",
        "outputId": "beb8970f-4c45-4f55-c786-7d4c9dd5a5ab"
      },
      "execution_count": 11,
      "outputs": [
        {
          "output_type": "stream",
          "name": "stdout",
          "text": [
            "The shape of the tensor: (2, 3, 3)\n",
            "The size of the tensor: 18\n",
            "The rank of the tensor: 3\n"
          ]
        }
      ]
    },
    {
      "cell_type": "code",
      "source": [
        "tf.random.set_seed(42)\n",
        "tensor_1 = tf.random.uniform(shape=(5, 300))\n",
        "tensor_2 = tf.random.uniform(shape=(5, 300))"
      ],
      "metadata": {
        "id": "FDUZENJbU5Hk"
      },
      "execution_count": 12,
      "outputs": []
    },
    {
      "cell_type": "code",
      "source": [
        "tensor_1, tensor_1.shape, tensor_2, tensor_2.shape"
      ],
      "metadata": {
        "colab": {
          "base_uri": "https://localhost:8080/"
        },
        "id": "rPVEUgcaVZyb",
        "outputId": "aaa594a6-1309-4cd8-c9e2-95cf30a5ae74"
      },
      "execution_count": 13,
      "outputs": [
        {
          "output_type": "execute_result",
          "data": {
            "text/plain": [
              "(<tf.Tensor: shape=(5, 300), dtype=float32, numpy=\n",
              " array([[0.6645621 , 0.44100678, 0.3528825 , ..., 0.31410468, 0.7593535 ,\n",
              "         0.03699052],\n",
              "        [0.532024  , 0.29129946, 0.10571766, ..., 0.54052293, 0.31425726,\n",
              "         0.2200619 ],\n",
              "        [0.08404207, 0.03614604, 0.97732127, ..., 0.21516645, 0.9786098 ,\n",
              "         0.00726748],\n",
              "        [0.7396945 , 0.6653172 , 0.0787828 , ..., 0.7117733 , 0.07013571,\n",
              "         0.9409125 ],\n",
              "        [0.15861344, 0.12024033, 0.27218235, ..., 0.8824879 , 0.1432488 ,\n",
              "         0.44135118]], dtype=float32)>,\n",
              " TensorShape([5, 300]),\n",
              " <tf.Tensor: shape=(5, 300), dtype=float32, numpy=\n",
              " array([[0.68789124, 0.48447883, 0.9309944 , ..., 0.6920762 , 0.33180213,\n",
              "         0.9212563 ],\n",
              "        [0.27369928, 0.10631859, 0.6218617 , ..., 0.4382149 , 0.30427706,\n",
              "         0.51477313],\n",
              "        [0.00920248, 0.37280262, 0.8177401 , ..., 0.56786287, 0.49201214,\n",
              "         0.9892651 ],\n",
              "        [0.88608265, 0.08672249, 0.12160683, ..., 0.91770685, 0.72545695,\n",
              "         0.8280058 ],\n",
              "        [0.36690474, 0.9200133 , 0.9646884 , ..., 0.69012   , 0.7137332 ,\n",
              "         0.2584542 ]], dtype=float32)>,\n",
              " TensorShape([5, 300]))"
            ]
          },
          "metadata": {},
          "execution_count": 13
        }
      ]
    },
    {
      "cell_type": "code",
      "source": [
        "result_vector = tf.matmul(tensor_1, tf.transpose(tensor_2))"
      ],
      "metadata": {
        "id": "HvU7XVRVVh4r"
      },
      "execution_count": 17,
      "outputs": []
    },
    {
      "cell_type": "code",
      "source": [
        "result_vector, result_vector.shape"
      ],
      "metadata": {
        "colab": {
          "base_uri": "https://localhost:8080/"
        },
        "id": "FK6x13LeXJPh",
        "outputId": "14c9ec21-0533-4c7e-cd2e-6ef6ea8e498a"
      },
      "execution_count": 18,
      "outputs": [
        {
          "output_type": "execute_result",
          "data": {
            "text/plain": [
              "(<tf.Tensor: shape=(5, 5), dtype=float32, numpy=\n",
              " array([[80.33345 , 73.40498 , 77.159615, 73.98369 , 80.90053 ],\n",
              "        [75.146355, 68.80437 , 74.24302 , 71.841835, 75.60206 ],\n",
              "        [79.7594  , 75.644554, 77.797585, 74.74873 , 80.559845],\n",
              "        [75.08526 , 69.064064, 74.30776 , 72.27616 , 76.05669 ],\n",
              "        [85.05688 , 74.26627 , 78.00687 , 74.88679 , 83.13417 ]],\n",
              "       dtype=float32)>,\n",
              " TensorShape([5, 5]))"
            ]
          },
          "metadata": {},
          "execution_count": 18
        }
      ]
    },
    {
      "cell_type": "code",
      "source": [
        "result_vector_2 = tf.tensordot(tensor_1, tf.transpose(tensor_2), axes=1)\n",
        "result_vector_2"
      ],
      "metadata": {
        "colab": {
          "base_uri": "https://localhost:8080/"
        },
        "id": "-1PGv-NVXNb9",
        "outputId": "b1c07b71-05ce-42f2-f12d-e2f373072cb2"
      },
      "execution_count": 21,
      "outputs": [
        {
          "output_type": "execute_result",
          "data": {
            "text/plain": [
              "<tf.Tensor: shape=(5, 5), dtype=float32, numpy=\n",
              "array([[80.33345 , 73.40498 , 77.159615, 73.98369 , 80.90053 ],\n",
              "       [75.146355, 68.80437 , 74.24302 , 71.841835, 75.60206 ],\n",
              "       [79.7594  , 75.644554, 77.797585, 74.74873 , 80.559845],\n",
              "       [75.08526 , 69.064064, 74.30776 , 72.27616 , 76.05669 ],\n",
              "       [85.05688 , 74.26627 , 78.00687 , 74.88679 , 83.13417 ]],\n",
              "      dtype=float32)>"
            ]
          },
          "metadata": {},
          "execution_count": 21
        }
      ]
    },
    {
      "cell_type": "code",
      "source": [
        "tf.equal(result_vector, result_vector_2)"
      ],
      "metadata": {
        "colab": {
          "base_uri": "https://localhost:8080/"
        },
        "id": "ftwqprvdXui7",
        "outputId": "3a30f254-fffd-4b1e-bb68-61df940fed12"
      },
      "execution_count": 23,
      "outputs": [
        {
          "output_type": "execute_result",
          "data": {
            "text/plain": [
              "<tf.Tensor: shape=(5, 5), dtype=bool, numpy=\n",
              "array([[ True,  True,  True,  True,  True],\n",
              "       [ True,  True,  True,  True,  True],\n",
              "       [ True,  True,  True,  True,  True],\n",
              "       [ True,  True,  True,  True,  True],\n",
              "       [ True,  True,  True,  True,  True]])>"
            ]
          },
          "metadata": {},
          "execution_count": 23
        }
      ]
    },
    {
      "cell_type": "code",
      "source": [
        "big_tensor = tf.random.uniform(shape=[224, 224, 3], seed=42),\n",
        "big_tensor"
      ],
      "metadata": {
        "colab": {
          "base_uri": "https://localhost:8080/"
        },
        "id": "kESJ7Ja6YHaC",
        "outputId": "dd2bdd79-5cbc-4ca2-8be1-92f3be912970"
      },
      "execution_count": 26,
      "outputs": [
        {
          "output_type": "execute_result",
          "data": {
            "text/plain": [
              "(<tf.Tensor: shape=(224, 224, 3), dtype=float32, numpy=\n",
              " array([[[0.4163028 , 0.26858163, 0.47968316],\n",
              "         [0.36457133, 0.95471144, 0.9418646 ],\n",
              "         [0.61483395, 0.35842144, 0.5936024 ],\n",
              "         ...,\n",
              "         [0.3001454 , 0.7371932 , 0.9997108 ],\n",
              "         [0.6578264 , 0.79280615, 0.1523186 ],\n",
              "         [0.18333101, 0.84532166, 0.66058433]],\n",
              " \n",
              "        [[0.99603903, 0.74609745, 0.5254276 ],\n",
              "         [0.97391105, 0.12732589, 0.33558083],\n",
              "         [0.15509152, 0.3798263 , 0.02595055],\n",
              "         ...,\n",
              "         [0.24695694, 0.4792341 , 0.907869  ],\n",
              "         [0.93202424, 0.21663308, 0.3452747 ],\n",
              "         [0.01570225, 0.97835445, 0.10668027]],\n",
              " \n",
              "        [[0.216218  , 0.02733779, 0.2472924 ],\n",
              "         [0.56103206, 0.02278149, 0.83240056],\n",
              "         [0.8430499 , 0.86110675, 0.39599562],\n",
              "         ...,\n",
              "         [0.51704574, 0.2421813 , 0.6224375 ],\n",
              "         [0.52620804, 0.409366  , 0.84243226],\n",
              "         [0.5460491 , 0.18278158, 0.9165064 ]],\n",
              " \n",
              "        ...,\n",
              " \n",
              "        [[0.74593174, 0.8235165 , 0.39988327],\n",
              "         [0.5811764 , 0.6485292 , 0.07318509],\n",
              "         [0.00589585, 0.6419269 , 0.23623943],\n",
              "         ...,\n",
              "         [0.9112017 , 0.88024414, 0.8442246 ],\n",
              "         [0.8325002 , 0.48099566, 0.5837574 ],\n",
              "         [0.45425844, 0.50584686, 0.33248162]],\n",
              " \n",
              "        [[0.43170965, 0.76083267, 0.04299724],\n",
              "         [0.92756164, 0.40405536, 0.16501105],\n",
              "         [0.27181232, 0.6757355 , 0.24796116],\n",
              "         ...,\n",
              "         [0.19005632, 0.8373622 , 0.88968575],\n",
              "         [0.9291986 , 0.7599759 , 0.02258408],\n",
              "         [0.9963025 , 0.45325232, 0.19665658]],\n",
              " \n",
              "        [[0.5778074 , 0.41934943, 0.03811729],\n",
              "         [0.03681779, 0.8260212 , 0.20397687],\n",
              "         [0.6626934 , 0.86505616, 0.05243158],\n",
              "         ...,\n",
              "         [0.42547143, 0.48931324, 0.30297387],\n",
              "         [0.12049162, 0.9484885 , 0.8884587 ],\n",
              "         [0.4801184 , 0.9299017 , 0.79143715]]], dtype=float32)>,)"
            ]
          },
          "metadata": {},
          "execution_count": 26
        }
      ]
    },
    {
      "cell_type": "code",
      "source": [
        "tf.random.set_seed(42)\n",
        "big_tensor_1 = tf.random.uniform(shape=[224, 224, 3])\n",
        "big_tensor_1"
      ],
      "metadata": {
        "colab": {
          "base_uri": "https://localhost:8080/"
        },
        "id": "ZN3M8I3qbUxP",
        "outputId": "f0083004-3a4f-4290-e82a-47356a5d01e3"
      },
      "execution_count": 36,
      "outputs": [
        {
          "output_type": "execute_result",
          "data": {
            "text/plain": [
              "<tf.Tensor: shape=(224, 224, 3), dtype=float32, numpy=\n",
              "array([[[0.6645621 , 0.44100678, 0.3528825 ],\n",
              "        [0.46448255, 0.03366041, 0.68467236],\n",
              "        [0.74011743, 0.8724445 , 0.22632635],\n",
              "        ...,\n",
              "        [0.42612267, 0.09686017, 0.16105258],\n",
              "        [0.1487099 , 0.04513884, 0.9497483 ],\n",
              "        [0.4393103 , 0.28527975, 0.96971095]],\n",
              "\n",
              "       [[0.73308516, 0.5657046 , 0.33238935],\n",
              "        [0.8838178 , 0.87544763, 0.56711245],\n",
              "        [0.8879347 , 0.47661996, 0.42041814],\n",
              "        ...,\n",
              "        [0.7716515 , 0.9116473 , 0.3229897 ],\n",
              "        [0.43050945, 0.83253574, 0.45549798],\n",
              "        [0.29816985, 0.9639522 , 0.3316357 ]],\n",
              "\n",
              "       [[0.41132426, 0.2179662 , 0.53570235],\n",
              "        [0.5112119 , 0.6484759 , 0.8894886 ],\n",
              "        [0.42459428, 0.20189774, 0.85781324],\n",
              "        ...,\n",
              "        [0.02888799, 0.3995477 , 0.11355484],\n",
              "        [0.68524575, 0.04945195, 0.17778492],\n",
              "        [0.97627187, 0.79811585, 0.9411576 ]],\n",
              "\n",
              "       ...,\n",
              "\n",
              "       [[0.9019445 , 0.27011132, 0.8090267 ],\n",
              "        [0.32395256, 0.6672456 , 0.940673  ],\n",
              "        [0.7166116 , 0.8860713 , 0.6777594 ],\n",
              "        ...,\n",
              "        [0.8318608 , 0.39227867, 0.68916583],\n",
              "        [0.1599741 , 0.46428144, 0.4656595 ],\n",
              "        [0.8619243 , 0.24755931, 0.33835268]],\n",
              "\n",
              "       [[0.47570062, 0.09377229, 0.11811328],\n",
              "        [0.0523994 , 0.38206005, 0.12188685],\n",
              "        [0.2757113 , 0.44918692, 0.9179864 ],\n",
              "        ...,\n",
              "        [0.4974177 , 0.4562863 , 0.8261535 ],\n",
              "        [0.60251105, 0.27676368, 0.258716  ],\n",
              "        [0.7977431 , 0.74125385, 0.76062095]],\n",
              "\n",
              "       [[0.4755299 , 0.4661665 , 0.14167643],\n",
              "        [0.9103775 , 0.41117966, 0.83182037],\n",
              "        [0.79765654, 0.38330686, 0.5313202 ],\n",
              "        ...,\n",
              "        [0.94517136, 0.17730081, 0.00362825],\n",
              "        [0.6170398 , 0.9977623 , 0.8315122 ],\n",
              "        [0.6683676 , 0.68716586, 0.4447713 ]]], dtype=float32)>"
            ]
          },
          "metadata": {},
          "execution_count": 36
        }
      ]
    },
    {
      "cell_type": "code",
      "source": [
        "print(f'Maximum value: {tf.reduce_max(big_tensor)}')\n",
        "print(f'Minimum value: {tf.reduce_min(big_tensor)}')"
      ],
      "metadata": {
        "colab": {
          "base_uri": "https://localhost:8080/"
        },
        "id": "TkM-Vk6zb-P3",
        "outputId": "18d8f33b-5c66-445d-a4e2-887c53eed913"
      },
      "execution_count": 38,
      "outputs": [
        {
          "output_type": "stream",
          "name": "stdout",
          "text": [
            "Maximum value: 0.9999901056289673\n",
            "Minimum value: 1.7404556274414062e-05\n"
          ]
        }
      ]
    },
    {
      "cell_type": "code",
      "source": [
        "unsqueezed_tensor = tf.random.Generator.from_seed(42)\n",
        "unsqueezed_tensor = unsqueezed_tensor.normal(shape=[1, 224, 224, 3])\n"
      ],
      "metadata": {
        "id": "K4NnAK60dCQ0"
      },
      "execution_count": 40,
      "outputs": []
    },
    {
      "cell_type": "code",
      "source": [
        "print(f'The shape before squeezing: {unsqueezed_tensor.shape}')\n",
        "squeezed_tensor = tf.squeeze(unsqueezed_tensor)\n",
        "print(f'The shape after squeezing: {squeezed_tensor.shape}')"
      ],
      "metadata": {
        "colab": {
          "base_uri": "https://localhost:8080/"
        },
        "id": "rDElQri7d0--",
        "outputId": "ff873b27-b22c-4071-a3a8-def674fde0b9"
      },
      "execution_count": 41,
      "outputs": [
        {
          "output_type": "stream",
          "name": "stdout",
          "text": [
            "The shape before squeezing: (1, 224, 224, 3)\n",
            "The shape after squeezing: (224, 224, 3)\n"
          ]
        }
      ]
    },
    {
      "cell_type": "code",
      "source": [
        "import numpy as np\n",
        "ten_tensor = tf.constant(np.random.randint(10, size=10))\n",
        "ten_tensor"
      ],
      "metadata": {
        "colab": {
          "base_uri": "https://localhost:8080/"
        },
        "id": "QwOkN-xfebM6",
        "outputId": "198d1fa9-4513-49a7-f03a-0c9969e0d1fc"
      },
      "execution_count": 65,
      "outputs": [
        {
          "output_type": "execute_result",
          "data": {
            "text/plain": [
              "<tf.Tensor: shape=(10,), dtype=int64, numpy=array([7, 5, 0, 4, 1, 9, 3, 2, 3, 4])>"
            ]
          },
          "metadata": {},
          "execution_count": 65
        }
      ]
    },
    {
      "cell_type": "code",
      "source": [
        "max_index = tf.math.argmax(ten_tensor)\n",
        "ten_tensor[max_index]"
      ],
      "metadata": {
        "colab": {
          "base_uri": "https://localhost:8080/"
        },
        "id": "BB0nuh9qfbL_",
        "outputId": "484072c9-0cc8-45f1-8689-1b0496402577"
      },
      "execution_count": 66,
      "outputs": [
        {
          "output_type": "execute_result",
          "data": {
            "text/plain": [
              "<tf.Tensor: shape=(), dtype=int64, numpy=9>"
            ]
          },
          "metadata": {},
          "execution_count": 66
        }
      ]
    },
    {
      "cell_type": "code",
      "source": [
        "tf.one_hot(tf.cast(ten_tensor,dtype=tf.int32), depth=10)"
      ],
      "metadata": {
        "colab": {
          "base_uri": "https://localhost:8080/"
        },
        "id": "IrzFJueKgJcJ",
        "outputId": "9685688d-1b0b-46ea-b7b8-200d281e7151"
      },
      "execution_count": 67,
      "outputs": [
        {
          "output_type": "execute_result",
          "data": {
            "text/plain": [
              "<tf.Tensor: shape=(10, 10), dtype=float32, numpy=\n",
              "array([[0., 0., 0., 0., 0., 0., 0., 1., 0., 0.],\n",
              "       [0., 0., 0., 0., 0., 1., 0., 0., 0., 0.],\n",
              "       [1., 0., 0., 0., 0., 0., 0., 0., 0., 0.],\n",
              "       [0., 0., 0., 0., 1., 0., 0., 0., 0., 0.],\n",
              "       [0., 1., 0., 0., 0., 0., 0., 0., 0., 0.],\n",
              "       [0., 0., 0., 0., 0., 0., 0., 0., 0., 1.],\n",
              "       [0., 0., 0., 1., 0., 0., 0., 0., 0., 0.],\n",
              "       [0., 0., 1., 0., 0., 0., 0., 0., 0., 0.],\n",
              "       [0., 0., 0., 1., 0., 0., 0., 0., 0., 0.],\n",
              "       [0., 0., 0., 0., 1., 0., 0., 0., 0., 0.]], dtype=float32)>"
            ]
          },
          "metadata": {},
          "execution_count": 67
        }
      ]
    },
    {
      "cell_type": "code",
      "source": [],
      "metadata": {
        "id": "ryEGNpucgx5M"
      },
      "execution_count": null,
      "outputs": []
    }
  ]
}